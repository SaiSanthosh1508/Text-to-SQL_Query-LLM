{
  "nbformat": 4,
  "nbformat_minor": 0,
  "metadata": {
    "colab": {
      "provenance": [],
      "gpuType": "T4"
    },
    "kernelspec": {
      "name": "python3",
      "display_name": "Python 3"
    },
    "language_info": {
      "name": "python"
    },
    "accelerator": "GPU",
    "widgets": {
      "application/vnd.jupyter.widget-state+json": {
        "e3aadb2c9e904b428703e7b8c0d39d26": {
          "model_module": "@jupyter-widgets/controls",
          "model_name": "HBoxModel",
          "model_module_version": "1.5.0",
          "state": {
            "_dom_classes": [],
            "_model_module": "@jupyter-widgets/controls",
            "_model_module_version": "1.5.0",
            "_model_name": "HBoxModel",
            "_view_count": null,
            "_view_module": "@jupyter-widgets/controls",
            "_view_module_version": "1.5.0",
            "_view_name": "HBoxView",
            "box_style": "",
            "children": [
              "IPY_MODEL_03d96e0409574a66af2e0fd3dbf55511",
              "IPY_MODEL_0b2a5b413ed342839c532994e2f9a893",
              "IPY_MODEL_a2b00297086f48a0bd415da54f52ae50"
            ],
            "layout": "IPY_MODEL_c156c05df4cd469a9bb9cdb6284c04b5"
          }
        },
        "03d96e0409574a66af2e0fd3dbf55511": {
          "model_module": "@jupyter-widgets/controls",
          "model_name": "HTMLModel",
          "model_module_version": "1.5.0",
          "state": {
            "_dom_classes": [],
            "_model_module": "@jupyter-widgets/controls",
            "_model_module_version": "1.5.0",
            "_model_name": "HTMLModel",
            "_view_count": null,
            "_view_module": "@jupyter-widgets/controls",
            "_view_module_version": "1.5.0",
            "_view_name": "HTMLView",
            "description": "",
            "description_tooltip": null,
            "layout": "IPY_MODEL_5e494858248a4682af0964ed80336239",
            "placeholder": "​",
            "style": "IPY_MODEL_6cb2a8da3e584f65b1549c5358e12d81",
            "value": "Loading checkpoint shards: 100%"
          }
        },
        "0b2a5b413ed342839c532994e2f9a893": {
          "model_module": "@jupyter-widgets/controls",
          "model_name": "FloatProgressModel",
          "model_module_version": "1.5.0",
          "state": {
            "_dom_classes": [],
            "_model_module": "@jupyter-widgets/controls",
            "_model_module_version": "1.5.0",
            "_model_name": "FloatProgressModel",
            "_view_count": null,
            "_view_module": "@jupyter-widgets/controls",
            "_view_module_version": "1.5.0",
            "_view_name": "ProgressView",
            "bar_style": "success",
            "description": "",
            "description_tooltip": null,
            "layout": "IPY_MODEL_5d93ed2a9a6b4db09c8041e18c61006d",
            "max": 2,
            "min": 0,
            "orientation": "horizontal",
            "style": "IPY_MODEL_701ad1b1bc304918891ec5c87bbd0c05",
            "value": 2
          }
        },
        "a2b00297086f48a0bd415da54f52ae50": {
          "model_module": "@jupyter-widgets/controls",
          "model_name": "HTMLModel",
          "model_module_version": "1.5.0",
          "state": {
            "_dom_classes": [],
            "_model_module": "@jupyter-widgets/controls",
            "_model_module_version": "1.5.0",
            "_model_name": "HTMLModel",
            "_view_count": null,
            "_view_module": "@jupyter-widgets/controls",
            "_view_module_version": "1.5.0",
            "_view_name": "HTMLView",
            "description": "",
            "description_tooltip": null,
            "layout": "IPY_MODEL_755c4e0669c24805a083fca49cc93d51",
            "placeholder": "​",
            "style": "IPY_MODEL_4cc8afa788cd4affa932ae9f7bfb259f",
            "value": " 2/2 [00:28&lt;00:00, 13.02s/it]"
          }
        },
        "c156c05df4cd469a9bb9cdb6284c04b5": {
          "model_module": "@jupyter-widgets/base",
          "model_name": "LayoutModel",
          "model_module_version": "1.2.0",
          "state": {
            "_model_module": "@jupyter-widgets/base",
            "_model_module_version": "1.2.0",
            "_model_name": "LayoutModel",
            "_view_count": null,
            "_view_module": "@jupyter-widgets/base",
            "_view_module_version": "1.2.0",
            "_view_name": "LayoutView",
            "align_content": null,
            "align_items": null,
            "align_self": null,
            "border": null,
            "bottom": null,
            "display": null,
            "flex": null,
            "flex_flow": null,
            "grid_area": null,
            "grid_auto_columns": null,
            "grid_auto_flow": null,
            "grid_auto_rows": null,
            "grid_column": null,
            "grid_gap": null,
            "grid_row": null,
            "grid_template_areas": null,
            "grid_template_columns": null,
            "grid_template_rows": null,
            "height": null,
            "justify_content": null,
            "justify_items": null,
            "left": null,
            "margin": null,
            "max_height": null,
            "max_width": null,
            "min_height": null,
            "min_width": null,
            "object_fit": null,
            "object_position": null,
            "order": null,
            "overflow": null,
            "overflow_x": null,
            "overflow_y": null,
            "padding": null,
            "right": null,
            "top": null,
            "visibility": null,
            "width": null
          }
        },
        "5e494858248a4682af0964ed80336239": {
          "model_module": "@jupyter-widgets/base",
          "model_name": "LayoutModel",
          "model_module_version": "1.2.0",
          "state": {
            "_model_module": "@jupyter-widgets/base",
            "_model_module_version": "1.2.0",
            "_model_name": "LayoutModel",
            "_view_count": null,
            "_view_module": "@jupyter-widgets/base",
            "_view_module_version": "1.2.0",
            "_view_name": "LayoutView",
            "align_content": null,
            "align_items": null,
            "align_self": null,
            "border": null,
            "bottom": null,
            "display": null,
            "flex": null,
            "flex_flow": null,
            "grid_area": null,
            "grid_auto_columns": null,
            "grid_auto_flow": null,
            "grid_auto_rows": null,
            "grid_column": null,
            "grid_gap": null,
            "grid_row": null,
            "grid_template_areas": null,
            "grid_template_columns": null,
            "grid_template_rows": null,
            "height": null,
            "justify_content": null,
            "justify_items": null,
            "left": null,
            "margin": null,
            "max_height": null,
            "max_width": null,
            "min_height": null,
            "min_width": null,
            "object_fit": null,
            "object_position": null,
            "order": null,
            "overflow": null,
            "overflow_x": null,
            "overflow_y": null,
            "padding": null,
            "right": null,
            "top": null,
            "visibility": null,
            "width": null
          }
        },
        "6cb2a8da3e584f65b1549c5358e12d81": {
          "model_module": "@jupyter-widgets/controls",
          "model_name": "DescriptionStyleModel",
          "model_module_version": "1.5.0",
          "state": {
            "_model_module": "@jupyter-widgets/controls",
            "_model_module_version": "1.5.0",
            "_model_name": "DescriptionStyleModel",
            "_view_count": null,
            "_view_module": "@jupyter-widgets/base",
            "_view_module_version": "1.2.0",
            "_view_name": "StyleView",
            "description_width": ""
          }
        },
        "5d93ed2a9a6b4db09c8041e18c61006d": {
          "model_module": "@jupyter-widgets/base",
          "model_name": "LayoutModel",
          "model_module_version": "1.2.0",
          "state": {
            "_model_module": "@jupyter-widgets/base",
            "_model_module_version": "1.2.0",
            "_model_name": "LayoutModel",
            "_view_count": null,
            "_view_module": "@jupyter-widgets/base",
            "_view_module_version": "1.2.0",
            "_view_name": "LayoutView",
            "align_content": null,
            "align_items": null,
            "align_self": null,
            "border": null,
            "bottom": null,
            "display": null,
            "flex": null,
            "flex_flow": null,
            "grid_area": null,
            "grid_auto_columns": null,
            "grid_auto_flow": null,
            "grid_auto_rows": null,
            "grid_column": null,
            "grid_gap": null,
            "grid_row": null,
            "grid_template_areas": null,
            "grid_template_columns": null,
            "grid_template_rows": null,
            "height": null,
            "justify_content": null,
            "justify_items": null,
            "left": null,
            "margin": null,
            "max_height": null,
            "max_width": null,
            "min_height": null,
            "min_width": null,
            "object_fit": null,
            "object_position": null,
            "order": null,
            "overflow": null,
            "overflow_x": null,
            "overflow_y": null,
            "padding": null,
            "right": null,
            "top": null,
            "visibility": null,
            "width": null
          }
        },
        "701ad1b1bc304918891ec5c87bbd0c05": {
          "model_module": "@jupyter-widgets/controls",
          "model_name": "ProgressStyleModel",
          "model_module_version": "1.5.0",
          "state": {
            "_model_module": "@jupyter-widgets/controls",
            "_model_module_version": "1.5.0",
            "_model_name": "ProgressStyleModel",
            "_view_count": null,
            "_view_module": "@jupyter-widgets/base",
            "_view_module_version": "1.2.0",
            "_view_name": "StyleView",
            "bar_color": null,
            "description_width": ""
          }
        },
        "755c4e0669c24805a083fca49cc93d51": {
          "model_module": "@jupyter-widgets/base",
          "model_name": "LayoutModel",
          "model_module_version": "1.2.0",
          "state": {
            "_model_module": "@jupyter-widgets/base",
            "_model_module_version": "1.2.0",
            "_model_name": "LayoutModel",
            "_view_count": null,
            "_view_module": "@jupyter-widgets/base",
            "_view_module_version": "1.2.0",
            "_view_name": "LayoutView",
            "align_content": null,
            "align_items": null,
            "align_self": null,
            "border": null,
            "bottom": null,
            "display": null,
            "flex": null,
            "flex_flow": null,
            "grid_area": null,
            "grid_auto_columns": null,
            "grid_auto_flow": null,
            "grid_auto_rows": null,
            "grid_column": null,
            "grid_gap": null,
            "grid_row": null,
            "grid_template_areas": null,
            "grid_template_columns": null,
            "grid_template_rows": null,
            "height": null,
            "justify_content": null,
            "justify_items": null,
            "left": null,
            "margin": null,
            "max_height": null,
            "max_width": null,
            "min_height": null,
            "min_width": null,
            "object_fit": null,
            "object_position": null,
            "order": null,
            "overflow": null,
            "overflow_x": null,
            "overflow_y": null,
            "padding": null,
            "right": null,
            "top": null,
            "visibility": null,
            "width": null
          }
        },
        "4cc8afa788cd4affa932ae9f7bfb259f": {
          "model_module": "@jupyter-widgets/controls",
          "model_name": "DescriptionStyleModel",
          "model_module_version": "1.5.0",
          "state": {
            "_model_module": "@jupyter-widgets/controls",
            "_model_module_version": "1.5.0",
            "_model_name": "DescriptionStyleModel",
            "_view_count": null,
            "_view_module": "@jupyter-widgets/base",
            "_view_module_version": "1.2.0",
            "_view_name": "StyleView",
            "description_width": ""
          }
        },
        "03611849bc6542d8af2449ecc805878c": {
          "model_module": "@jupyter-widgets/controls",
          "model_name": "HBoxModel",
          "model_module_version": "1.5.0",
          "state": {
            "_dom_classes": [],
            "_model_module": "@jupyter-widgets/controls",
            "_model_module_version": "1.5.0",
            "_model_name": "HBoxModel",
            "_view_count": null,
            "_view_module": "@jupyter-widgets/controls",
            "_view_module_version": "1.5.0",
            "_view_name": "HBoxView",
            "box_style": "",
            "children": [
              "IPY_MODEL_64112aab54974a3e8543d0782740837a",
              "IPY_MODEL_6e45557c7d0d458482d9024ca721c583",
              "IPY_MODEL_99c87e72506e4d1e9e833cda921aadc3"
            ],
            "layout": "IPY_MODEL_82fd6081f96342e0afbb896642ab4d24"
          }
        },
        "64112aab54974a3e8543d0782740837a": {
          "model_module": "@jupyter-widgets/controls",
          "model_name": "HTMLModel",
          "model_module_version": "1.5.0",
          "state": {
            "_dom_classes": [],
            "_model_module": "@jupyter-widgets/controls",
            "_model_module_version": "1.5.0",
            "_model_name": "HTMLModel",
            "_view_count": null,
            "_view_module": "@jupyter-widgets/controls",
            "_view_module_version": "1.5.0",
            "_view_name": "HTMLView",
            "description": "",
            "description_tooltip": null,
            "layout": "IPY_MODEL_d0c3df137d664d36834cdc269d50867a",
            "placeholder": "​",
            "style": "IPY_MODEL_2fec5d70efaa41aab1d5a4ff6f657fba",
            "value": "generation_config.json: 100%"
          }
        },
        "6e45557c7d0d458482d9024ca721c583": {
          "model_module": "@jupyter-widgets/controls",
          "model_name": "FloatProgressModel",
          "model_module_version": "1.5.0",
          "state": {
            "_dom_classes": [],
            "_model_module": "@jupyter-widgets/controls",
            "_model_module_version": "1.5.0",
            "_model_name": "FloatProgressModel",
            "_view_count": null,
            "_view_module": "@jupyter-widgets/controls",
            "_view_module_version": "1.5.0",
            "_view_name": "ProgressView",
            "bar_style": "success",
            "description": "",
            "description_tooltip": null,
            "layout": "IPY_MODEL_cbf646c2035549c2bb7f28b8550269e8",
            "max": 184,
            "min": 0,
            "orientation": "horizontal",
            "style": "IPY_MODEL_40d9bf53d6a14fd98287d57136ac8f37",
            "value": 184
          }
        },
        "99c87e72506e4d1e9e833cda921aadc3": {
          "model_module": "@jupyter-widgets/controls",
          "model_name": "HTMLModel",
          "model_module_version": "1.5.0",
          "state": {
            "_dom_classes": [],
            "_model_module": "@jupyter-widgets/controls",
            "_model_module_version": "1.5.0",
            "_model_name": "HTMLModel",
            "_view_count": null,
            "_view_module": "@jupyter-widgets/controls",
            "_view_module_version": "1.5.0",
            "_view_name": "HTMLView",
            "description": "",
            "description_tooltip": null,
            "layout": "IPY_MODEL_17d42a4c34874479b38247e0c33f7d53",
            "placeholder": "​",
            "style": "IPY_MODEL_ae08925156824c028278c3fd89f0a109",
            "value": " 184/184 [00:00&lt;00:00, 18.0kB/s]"
          }
        },
        "82fd6081f96342e0afbb896642ab4d24": {
          "model_module": "@jupyter-widgets/base",
          "model_name": "LayoutModel",
          "model_module_version": "1.2.0",
          "state": {
            "_model_module": "@jupyter-widgets/base",
            "_model_module_version": "1.2.0",
            "_model_name": "LayoutModel",
            "_view_count": null,
            "_view_module": "@jupyter-widgets/base",
            "_view_module_version": "1.2.0",
            "_view_name": "LayoutView",
            "align_content": null,
            "align_items": null,
            "align_self": null,
            "border": null,
            "bottom": null,
            "display": null,
            "flex": null,
            "flex_flow": null,
            "grid_area": null,
            "grid_auto_columns": null,
            "grid_auto_flow": null,
            "grid_auto_rows": null,
            "grid_column": null,
            "grid_gap": null,
            "grid_row": null,
            "grid_template_areas": null,
            "grid_template_columns": null,
            "grid_template_rows": null,
            "height": null,
            "justify_content": null,
            "justify_items": null,
            "left": null,
            "margin": null,
            "max_height": null,
            "max_width": null,
            "min_height": null,
            "min_width": null,
            "object_fit": null,
            "object_position": null,
            "order": null,
            "overflow": null,
            "overflow_x": null,
            "overflow_y": null,
            "padding": null,
            "right": null,
            "top": null,
            "visibility": null,
            "width": null
          }
        },
        "d0c3df137d664d36834cdc269d50867a": {
          "model_module": "@jupyter-widgets/base",
          "model_name": "LayoutModel",
          "model_module_version": "1.2.0",
          "state": {
            "_model_module": "@jupyter-widgets/base",
            "_model_module_version": "1.2.0",
            "_model_name": "LayoutModel",
            "_view_count": null,
            "_view_module": "@jupyter-widgets/base",
            "_view_module_version": "1.2.0",
            "_view_name": "LayoutView",
            "align_content": null,
            "align_items": null,
            "align_self": null,
            "border": null,
            "bottom": null,
            "display": null,
            "flex": null,
            "flex_flow": null,
            "grid_area": null,
            "grid_auto_columns": null,
            "grid_auto_flow": null,
            "grid_auto_rows": null,
            "grid_column": null,
            "grid_gap": null,
            "grid_row": null,
            "grid_template_areas": null,
            "grid_template_columns": null,
            "grid_template_rows": null,
            "height": null,
            "justify_content": null,
            "justify_items": null,
            "left": null,
            "margin": null,
            "max_height": null,
            "max_width": null,
            "min_height": null,
            "min_width": null,
            "object_fit": null,
            "object_position": null,
            "order": null,
            "overflow": null,
            "overflow_x": null,
            "overflow_y": null,
            "padding": null,
            "right": null,
            "top": null,
            "visibility": null,
            "width": null
          }
        },
        "2fec5d70efaa41aab1d5a4ff6f657fba": {
          "model_module": "@jupyter-widgets/controls",
          "model_name": "DescriptionStyleModel",
          "model_module_version": "1.5.0",
          "state": {
            "_model_module": "@jupyter-widgets/controls",
            "_model_module_version": "1.5.0",
            "_model_name": "DescriptionStyleModel",
            "_view_count": null,
            "_view_module": "@jupyter-widgets/base",
            "_view_module_version": "1.2.0",
            "_view_name": "StyleView",
            "description_width": ""
          }
        },
        "cbf646c2035549c2bb7f28b8550269e8": {
          "model_module": "@jupyter-widgets/base",
          "model_name": "LayoutModel",
          "model_module_version": "1.2.0",
          "state": {
            "_model_module": "@jupyter-widgets/base",
            "_model_module_version": "1.2.0",
            "_model_name": "LayoutModel",
            "_view_count": null,
            "_view_module": "@jupyter-widgets/base",
            "_view_module_version": "1.2.0",
            "_view_name": "LayoutView",
            "align_content": null,
            "align_items": null,
            "align_self": null,
            "border": null,
            "bottom": null,
            "display": null,
            "flex": null,
            "flex_flow": null,
            "grid_area": null,
            "grid_auto_columns": null,
            "grid_auto_flow": null,
            "grid_auto_rows": null,
            "grid_column": null,
            "grid_gap": null,
            "grid_row": null,
            "grid_template_areas": null,
            "grid_template_columns": null,
            "grid_template_rows": null,
            "height": null,
            "justify_content": null,
            "justify_items": null,
            "left": null,
            "margin": null,
            "max_height": null,
            "max_width": null,
            "min_height": null,
            "min_width": null,
            "object_fit": null,
            "object_position": null,
            "order": null,
            "overflow": null,
            "overflow_x": null,
            "overflow_y": null,
            "padding": null,
            "right": null,
            "top": null,
            "visibility": null,
            "width": null
          }
        },
        "40d9bf53d6a14fd98287d57136ac8f37": {
          "model_module": "@jupyter-widgets/controls",
          "model_name": "ProgressStyleModel",
          "model_module_version": "1.5.0",
          "state": {
            "_model_module": "@jupyter-widgets/controls",
            "_model_module_version": "1.5.0",
            "_model_name": "ProgressStyleModel",
            "_view_count": null,
            "_view_module": "@jupyter-widgets/base",
            "_view_module_version": "1.2.0",
            "_view_name": "StyleView",
            "bar_color": null,
            "description_width": ""
          }
        },
        "17d42a4c34874479b38247e0c33f7d53": {
          "model_module": "@jupyter-widgets/base",
          "model_name": "LayoutModel",
          "model_module_version": "1.2.0",
          "state": {
            "_model_module": "@jupyter-widgets/base",
            "_model_module_version": "1.2.0",
            "_model_name": "LayoutModel",
            "_view_count": null,
            "_view_module": "@jupyter-widgets/base",
            "_view_module_version": "1.2.0",
            "_view_name": "LayoutView",
            "align_content": null,
            "align_items": null,
            "align_self": null,
            "border": null,
            "bottom": null,
            "display": null,
            "flex": null,
            "flex_flow": null,
            "grid_area": null,
            "grid_auto_columns": null,
            "grid_auto_flow": null,
            "grid_auto_rows": null,
            "grid_column": null,
            "grid_gap": null,
            "grid_row": null,
            "grid_template_areas": null,
            "grid_template_columns": null,
            "grid_template_rows": null,
            "height": null,
            "justify_content": null,
            "justify_items": null,
            "left": null,
            "margin": null,
            "max_height": null,
            "max_width": null,
            "min_height": null,
            "min_width": null,
            "object_fit": null,
            "object_position": null,
            "order": null,
            "overflow": null,
            "overflow_x": null,
            "overflow_y": null,
            "padding": null,
            "right": null,
            "top": null,
            "visibility": null,
            "width": null
          }
        },
        "ae08925156824c028278c3fd89f0a109": {
          "model_module": "@jupyter-widgets/controls",
          "model_name": "DescriptionStyleModel",
          "model_module_version": "1.5.0",
          "state": {
            "_model_module": "@jupyter-widgets/controls",
            "_model_module_version": "1.5.0",
            "_model_name": "DescriptionStyleModel",
            "_view_count": null,
            "_view_module": "@jupyter-widgets/base",
            "_view_module_version": "1.2.0",
            "_view_name": "StyleView",
            "description_width": ""
          }
        }
      }
    }
  },
  "cells": [
    {
      "cell_type": "code",
      "execution_count": 1,
      "metadata": {
        "colab": {
          "base_uri": "https://localhost:8080/"
        },
        "id": "QkQ8-2KhKVTU",
        "outputId": "5cbb9193-705c-49a9-8629-183d22987e40"
      },
      "outputs": [
        {
          "output_type": "stream",
          "name": "stdout",
          "text": [
            "\u001b[2K   \u001b[90m━━━━━━━━━━━━━━━━━━━━━━━━━━━━━━━━━━━━━━━━\u001b[0m \u001b[32m10.2/10.2 MB\u001b[0m \u001b[31m26.6 MB/s\u001b[0m eta \u001b[36m0:00:00\u001b[0m\n",
            "\u001b[2K   \u001b[90m━━━━━━━━━━━━━━━━━━━━━━━━━━━━━━━━━━━━━━━━\u001b[0m \u001b[32m76.1/76.1 MB\u001b[0m \u001b[31m7.5 MB/s\u001b[0m eta \u001b[36m0:00:00\u001b[0m\n",
            "\u001b[2K   \u001b[90m━━━━━━━━━━━━━━━━━━━━━━━━━━━━━━━━━━━━━━━━\u001b[0m \u001b[32m363.4/363.4 MB\u001b[0m \u001b[31m3.6 MB/s\u001b[0m eta \u001b[36m0:00:00\u001b[0m\n",
            "\u001b[2K   \u001b[90m━━━━━━━━━━━━━━━━━━━━━━━━━━━━━━━━━━━━━━━━\u001b[0m \u001b[32m13.8/13.8 MB\u001b[0m \u001b[31m30.4 MB/s\u001b[0m eta \u001b[36m0:00:00\u001b[0m\n",
            "\u001b[2K   \u001b[90m━━━━━━━━━━━━━━━━━━━━━━━━━━━━━━━━━━━━━━━━\u001b[0m \u001b[32m24.6/24.6 MB\u001b[0m \u001b[31m27.6 MB/s\u001b[0m eta \u001b[36m0:00:00\u001b[0m\n",
            "\u001b[2K   \u001b[90m━━━━━━━━━━━━━━━━━━━━━━━━━━━━━━━━━━━━━━━━\u001b[0m \u001b[32m883.7/883.7 kB\u001b[0m \u001b[31m29.9 MB/s\u001b[0m eta \u001b[36m0:00:00\u001b[0m\n",
            "\u001b[2K   \u001b[90m━━━━━━━━━━━━━━━━━━━━━━━━━━━━━━━━━━━━━━━━\u001b[0m \u001b[32m664.8/664.8 MB\u001b[0m \u001b[31m2.7 MB/s\u001b[0m eta \u001b[36m0:00:00\u001b[0m\n",
            "\u001b[2K   \u001b[90m━━━━━━━━━━━━━━━━━━━━━━━━━━━━━━━━━━━━━━━━\u001b[0m \u001b[32m211.5/211.5 MB\u001b[0m \u001b[31m5.9 MB/s\u001b[0m eta \u001b[36m0:00:00\u001b[0m\n",
            "\u001b[2K   \u001b[90m━━━━━━━━━━━━━━━━━━━━━━━━━━━━━━━━━━━━━━━━\u001b[0m \u001b[32m56.3/56.3 MB\u001b[0m \u001b[31m14.5 MB/s\u001b[0m eta \u001b[36m0:00:00\u001b[0m\n",
            "\u001b[2K   \u001b[90m━━━━━━━━━━━━━━━━━━━━━━━━━━━━━━━━━━━━━━━━\u001b[0m \u001b[32m127.9/127.9 MB\u001b[0m \u001b[31m7.6 MB/s\u001b[0m eta \u001b[36m0:00:00\u001b[0m\n",
            "\u001b[2K   \u001b[90m━━━━━━━━━━━━━━━━━━━━━━━━━━━━━━━━━━━━━━━━\u001b[0m \u001b[32m207.5/207.5 MB\u001b[0m \u001b[31m6.3 MB/s\u001b[0m eta \u001b[36m0:00:00\u001b[0m\n",
            "\u001b[2K   \u001b[90m━━━━━━━━━━━━━━━━━━━━━━━━━━━━━━━━━━━━━━━━\u001b[0m \u001b[32m21.1/21.1 MB\u001b[0m \u001b[31m93.9 MB/s\u001b[0m eta \u001b[36m0:00:00\u001b[0m\n",
            "\u001b[?25h"
          ]
        }
      ],
      "source": [
        "!pip install -q -U transformers bitsandbytes"
      ]
    },
    {
      "cell_type": "code",
      "source": [
        "from huggingface_hub import login\n",
        "from google.colab import userdata\n",
        "\n",
        "login(token = userdata.get(\"HF_TOKEN\"))"
      ],
      "metadata": {
        "id": "OIRi3omqLDMZ"
      },
      "execution_count": 1,
      "outputs": []
    },
    {
      "cell_type": "code",
      "source": [
        "from transformers import AutoTokenizer, AutoModelForCausalLM\n",
        "\n",
        "tokenizer = AutoTokenizer.from_pretrained(\"sai-santhosh/text-2-sql-Llama-3.2-3B\")\n",
        "model = AutoModelForCausalLM.from_pretrained(\"sai-santhosh/text-2-sql-Llama-3.2-3B\",load_in_4bit=True)"
      ],
      "metadata": {
        "colab": {
          "base_uri": "https://localhost:8080/",
          "height": 136,
          "referenced_widgets": [
            "e3aadb2c9e904b428703e7b8c0d39d26",
            "03d96e0409574a66af2e0fd3dbf55511",
            "0b2a5b413ed342839c532994e2f9a893",
            "a2b00297086f48a0bd415da54f52ae50",
            "c156c05df4cd469a9bb9cdb6284c04b5",
            "5e494858248a4682af0964ed80336239",
            "6cb2a8da3e584f65b1549c5358e12d81",
            "5d93ed2a9a6b4db09c8041e18c61006d",
            "701ad1b1bc304918891ec5c87bbd0c05",
            "755c4e0669c24805a083fca49cc93d51",
            "4cc8afa788cd4affa932ae9f7bfb259f",
            "03611849bc6542d8af2449ecc805878c",
            "64112aab54974a3e8543d0782740837a",
            "6e45557c7d0d458482d9024ca721c583",
            "99c87e72506e4d1e9e833cda921aadc3",
            "82fd6081f96342e0afbb896642ab4d24",
            "d0c3df137d664d36834cdc269d50867a",
            "2fec5d70efaa41aab1d5a4ff6f657fba",
            "cbf646c2035549c2bb7f28b8550269e8",
            "40d9bf53d6a14fd98287d57136ac8f37",
            "17d42a4c34874479b38247e0c33f7d53",
            "ae08925156824c028278c3fd89f0a109"
          ]
        },
        "id": "T6va9xuHKaCm",
        "outputId": "82fcb9e0-b761-4482-ad73-22b45e22630b"
      },
      "execution_count": 2,
      "outputs": [
        {
          "output_type": "stream",
          "name": "stderr",
          "text": [
            "The `load_in_4bit` and `load_in_8bit` arguments are deprecated and will be removed in the future versions. Please, pass a `BitsAndBytesConfig` object in `quantization_config` argument instead.\n",
            "`low_cpu_mem_usage` was None, now default to True since model is quantized.\n"
          ]
        },
        {
          "output_type": "display_data",
          "data": {
            "text/plain": [
              "Loading checkpoint shards:   0%|          | 0/2 [00:00<?, ?it/s]"
            ],
            "application/vnd.jupyter.widget-view+json": {
              "version_major": 2,
              "version_minor": 0,
              "model_id": "e3aadb2c9e904b428703e7b8c0d39d26"
            }
          },
          "metadata": {}
        },
        {
          "output_type": "display_data",
          "data": {
            "text/plain": [
              "generation_config.json:   0%|          | 0.00/184 [00:00<?, ?B/s]"
            ],
            "application/vnd.jupyter.widget-view+json": {
              "version_major": 2,
              "version_minor": 0,
              "model_id": "03611849bc6542d8af2449ecc805878c"
            }
          },
          "metadata": {}
        }
      ]
    },
    {
      "cell_type": "code",
      "source": [
        "from transformers import pipeline\n",
        "import re\n",
        "import textwrap\n",
        "\n",
        "def get_sql_query(model,tokenizer,question,context):\n",
        "\n",
        "    pipe = pipeline(\n",
        "    \"text-generation\", model=model, tokenizer=tokenizer)\n",
        "\n",
        "    system_prompt = \"\"\"Provide the SQL query to the question based on the context in below format\n",
        "                                                    1. SQL Query: start with ```sql\n",
        "                                                    2. Explanation of the query: start with ```explanation\n",
        "\n",
        "            make the explanation clear and detail in less than 75 words\"\"\"\n",
        "\n",
        "    prompt = pipe.tokenizer.apply_chat_template(\n",
        "        [   {\"role\": \"system\", \"content\" : system_prompt},\n",
        "            {\"role\": \"user\", \"content\": f\"Question: {question} Context: {context}\"}],\n",
        "        tokenize=False,\n",
        "        add_generation_prompt=True,\n",
        "    )\n",
        "\n",
        "\n",
        "    outputs = pipe(\n",
        "        prompt,\n",
        "        max_length=350,\n",
        "        clean_up_tokenization_spaces=True\n",
        "    )\n",
        "\n",
        "    generated_text = outputs[0]['generated_text']\n",
        "\n",
        "    generated_text = generated_text.replace(system_prompt,\"\")\n",
        "    sql_query_pattern = r\"```sql\\n(.*?)\\n```\"\n",
        "    sql_query_match = re.search(sql_query_pattern, generated_text, re.DOTALL)\n",
        "    sql_query = sql_query_match.group(1).strip() if sql_query_match else None\n",
        "\n",
        "    explanation_pattern = r\"\\*\\*Explanation\\:\\*\\*(.*)\"\n",
        "    explanation_match = re.search(explanation_pattern, generated_text, re.DOTALL)\n",
        "    explanation = explanation_match.group(1).strip() if explanation_match else None\n",
        "\n",
        "\n",
        "    print(\"\\n\\nQuery:\\n-----------\\n\")\n",
        "    print(\"\\n\".join(textwrap.wrap(sql_query, width=100)))\n",
        "\n",
        "    print(\"\\n\\nExplanation:\\n-----------\\n\")\n",
        "    print(\"\\n\".join(textwrap.wrap(explanation, width=100))) # Wrap text to limit width"
      ],
      "metadata": {
        "id": "NmcwnvWpKxtF"
      },
      "execution_count": 15,
      "outputs": []
    },
    {
      "cell_type": "code",
      "source": [
        "# SELECT name FROM Aircraft WHERE distance > (SELECT AVG(distance) FROM Aircraft)  --->  right answer\n",
        "question = \"Show names for all aircrafts with distances more than the average.\"\n",
        "context  = \"CREATE TABLE Aircraft (name VARCHAR, distance INTEGER)\""
      ],
      "metadata": {
        "id": "_TgugdSER_t-"
      },
      "execution_count": 16,
      "outputs": []
    },
    {
      "cell_type": "code",
      "source": [
        "get_sql_query(model,tokenizer,question,context)"
      ],
      "metadata": {
        "colab": {
          "base_uri": "https://localhost:8080/"
        },
        "id": "kyXOEl4zScvK",
        "outputId": "2ba45752-2cdf-465f-dc01-34d106ceaa9e"
      },
      "execution_count": 17,
      "outputs": [
        {
          "output_type": "stream",
          "name": "stderr",
          "text": [
            "Device set to use cuda:0\n"
          ]
        },
        {
          "output_type": "stream",
          "name": "stdout",
          "text": [
            "\n",
            "\n",
            "Query:\n",
            "-----------\n",
            "\n",
            "SELECT name FROM Aircraft WHERE distance > (SELECT AVG(distance) FROM Aircraft);\n",
            "\n",
            "\n",
            "Explanation:\n",
            "-----------\n",
            "\n",
            "This SQL query calculates the average distance of all aircraft and then selects the names of\n",
            "aircraft with distances greater than that average. It uses a subquery to calculate the average\n",
            "distance, and the main query selects the `name` column from the `Aircraft` table where the\n",
            "`distance` is greater than the calculated average.\n"
          ]
        }
      ]
    },
    {
      "cell_type": "code",
      "source": [
        "question_1 = \"Get the names of customers who spent more than the average amount.\"\n",
        "context_1 = \"CREATE TABLE Customers (name VARCHAR, spent INTEGER)\"\n",
        "\n",
        "get_sql_query(model,tokenizer,question_1,context_1)"
      ],
      "metadata": {
        "colab": {
          "base_uri": "https://localhost:8080/"
        },
        "id": "MPk0NKD1Sfz8",
        "outputId": "4f015351-0ed6-44f2-df07-47e095596c0f"
      },
      "execution_count": 18,
      "outputs": [
        {
          "output_type": "stream",
          "name": "stderr",
          "text": [
            "Device set to use cuda:0\n"
          ]
        },
        {
          "output_type": "stream",
          "name": "stdout",
          "text": [
            "\n",
            "\n",
            "Query:\n",
            "-----------\n",
            "\n",
            "SELECT name  FROM Customers  WHERE spent > (SELECT AVG(spent) FROM Customers);\n",
            "\n",
            "\n",
            "Explanation:\n",
            "-----------\n",
            "\n",
            "This SQL query selects the names of customers who have spent more than the average amount spent by\n",
            "all customers. The subquery `(SELECT AVG(spent) FROM Customers)` calculates the average amount spent\n",
            "by all customers, and the main query selects the names of customers whose spent amount is greater\n",
            "than this average.\n"
          ]
        }
      ]
    },
    {
      "cell_type": "code",
      "source": [
        "question_2 = \"Find the highest salary from the Employees table.\"\n",
        "context_2 = \"CREATE TABLE Employees (name VARCHAR, salary INTEGER)\"\n",
        "\n",
        "get_sql_query(model,tokenizer,question_2,context_2)"
      ],
      "metadata": {
        "colab": {
          "base_uri": "https://localhost:8080/"
        },
        "id": "GaLW90_DeDrR",
        "outputId": "6b582ab4-9b33-4b28-db0f-da8659162808"
      },
      "execution_count": 19,
      "outputs": [
        {
          "output_type": "stream",
          "name": "stderr",
          "text": [
            "Device set to use cuda:0\n"
          ]
        },
        {
          "output_type": "stream",
          "name": "stdout",
          "text": [
            "\n",
            "\n",
            "Query:\n",
            "-----------\n",
            "\n",
            "SELECT MAX(salary) AS highest_salary FROM Employees;\n",
            "\n",
            "\n",
            "Explanation:\n",
            "-----------\n",
            "\n",
            "This SQL query finds the maximum salary from the `Employees` table. It uses the `MAX` function to\n",
            "select the highest value from the `salary` column. The result is a single row with a single column,\n",
            "`highest_salary`, which contains the highest salary from the table.\n"
          ]
        }
      ]
    },
    {
      "cell_type": "code",
      "source": [
        "question_3 = \"Show all orders that were placed by customers from New York.\"\n",
        "context_3 = \"CREATE TABLE Orders (order_id INTEGER, customer_id INTEGER, city VARCHAR)\"\n",
        "\n",
        "get_sql_query(model,tokenizer,question_3,context_3)"
      ],
      "metadata": {
        "colab": {
          "base_uri": "https://localhost:8080/"
        },
        "id": "hHZcaLObeN2V",
        "outputId": "ac26ade7-31b3-48d8-df59-01d84173652f"
      },
      "execution_count": 20,
      "outputs": [
        {
          "output_type": "stream",
          "name": "stderr",
          "text": [
            "Device set to use cuda:0\n"
          ]
        },
        {
          "output_type": "stream",
          "name": "stdout",
          "text": [
            "\n",
            "\n",
            "Query:\n",
            "-----------\n",
            "\n",
            "SELECT * FROM Orders WHERE city = 'New York';\n",
            "\n",
            "\n",
            "Explanation:\n",
            "-----------\n",
            "\n",
            "This SQL query selects all columns (`*`) from the `Orders` table where the `city` column is 'New\n",
            "York'. This query is designed to retrieve all orders associated with customers from New York, based\n",
            "on the specified table structure.\n"
          ]
        }
      ]
    },
    {
      "cell_type": "code",
      "source": [
        "question_4 = \"Find the names of customers who have placed orders with a total amount greater than the average order amount.\"\n",
        "context_4 = \"CREATE TABLE Customers (customer_id INTEGER, name VARCHAR); CREATE TABLE Orders (order_id INTEGER, customer_id INTEGER, amount INTEGER);\"\n",
        "\n",
        "get_sql_query(model,tokenizer,question_4,context_4)"
      ],
      "metadata": {
        "colab": {
          "base_uri": "https://localhost:8080/"
        },
        "id": "2jvQCXqje4lZ",
        "outputId": "a0599815-b22a-4bd4-c0a2-ed76618b40ca"
      },
      "execution_count": 21,
      "outputs": [
        {
          "output_type": "stream",
          "name": "stderr",
          "text": [
            "Device set to use cuda:0\n"
          ]
        },
        {
          "output_type": "stream",
          "name": "stdout",
          "text": [
            "\n",
            "\n",
            "Query:\n",
            "-----------\n",
            "\n",
            "SELECT C.name FROM Customers C JOIN (   SELECT customer_id, SUM(amount) AS total_amount   FROM\n",
            "Orders   GROUP BY customer_id ) AS T ON C.customer_id = T.customer_id WHERE T.total_amount > (SELECT\n",
            "AVG(amount) FROM Orders);\n",
            "\n",
            "\n",
            "Explanation:\n",
            "-----------\n",
            "\n",
            "This SQL query joins the `Customers` table with a subquery that calculates the total order amount\n",
            "for each customer. It then selects the names of customers whose total order amount exceeds the\n",
            "average order amount.\n"
          ]
        }
      ]
    },
    {
      "cell_type": "code",
      "source": [
        "question_5 = \"Get the names of products that were ordered by customers in New York who spent more than the average amount.\"\n",
        "context_5 = \"CREATE TABLE Customers (customer_id INTEGER, name VARCHAR, city VARCHAR); \\\n",
        "             CREATE TABLE Orders (order_id INTEGER, customer_id INTEGER, amount INTEGER); \\\n",
        "             CREATE TABLE Products (product_id INTEGER, name VARCHAR); CREATE TABLE Order_Items (order_id INTEGER, product_id INTEGER);\"\n",
        "\n",
        "get_sql_query(model,tokenizer,question_5,context_5)"
      ],
      "metadata": {
        "colab": {
          "base_uri": "https://localhost:8080/"
        },
        "id": "Q1B5lSu5fcN-",
        "outputId": "9260e1ba-87e9-4b84-e578-989271cc268e"
      },
      "execution_count": 23,
      "outputs": [
        {
          "output_type": "stream",
          "name": "stderr",
          "text": [
            "Device set to use cuda:0\n"
          ]
        },
        {
          "output_type": "stream",
          "name": "stdout",
          "text": [
            "\n",
            "\n",
            "Query:\n",
            "-----------\n",
            "\n",
            "SELECT P.name FROM Products P JOIN Orders O ON P.product_id = ANY (SELECT product_id FROM\n",
            "Order_Items WHERE order_id IN (SELECT order_id FROM Orders WHERE customer_id IN (SELECT customer_id\n",
            "FROM Customers WHERE city = 'New York')));\n",
            "\n",
            "\n",
            "Explanation:\n",
            "-----------\n",
            "\n",
            "This query joins the `Products` table with the `Orders` table on the condition that the `product_id`\n",
            "in `Products` is present in the `product_id` of any order made by customers in New York. It then\n",
            "filters these orders to include only those where the total amount spent is greater than the average\n",
            "amount spent by customers in New York.\n"
          ]
        }
      ]
    },
    {
      "cell_type": "code",
      "source": [],
      "metadata": {
        "id": "1IBERuE0gA_f"
      },
      "execution_count": null,
      "outputs": []
    }
  ]
}